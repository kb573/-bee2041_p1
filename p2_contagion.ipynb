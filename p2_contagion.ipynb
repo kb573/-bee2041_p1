{
 "cells": [
  {
   "cell_type": "markdown",
   "metadata": {},
   "source": [
    "This document is adapted from a lab prepared by Alex Rutherford, with permission"
   ]
  },
  {
   "cell_type": "markdown",
   "metadata": {},
   "source": [
    "Github link: https://github.com/kb573/-bee2041_p1"
   ]
  },
  {
   "cell_type": "code",
   "execution_count": 3,
   "metadata": {},
   "outputs": [],
   "source": [
    "%matplotlib inline\n",
    "import matplotlib.pyplot as plt\n",
    "import networkx as nx\n",
    "import random as rd\n",
    "import numpy as np"
   ]
  },
  {
   "cell_type": "markdown",
   "metadata": {},
   "source": [
    "# Setup"
   ]
  },
  {
   "cell_type": "markdown",
   "metadata": {},
   "source": [
    "In this part we are going to code our own simulation using python. What we are going to model the spread of a virus over a network of agents (e.g. people or computers). Read carefully this section, you'll not be asked to do anything, your only duty is to understand what we are going to do.\n",
    "\n",
    "First step is to model the problem, and in the case of multi-agent systems this means to give agent characteristics and capacities of interaction. For viral infection it is obvious that the only thing that matters is to know whether agent is infected, and how infection propagates. The infection status of an agent will be modeled by a state variable. Our model choice for infection will be that the infection spreads through links between agents (e.g. social links or communication links) with a given probability. As a consequence, the obvious representation for our simulation is a graph.\n",
    "\n",
    "Second step is to implement this model in a programing language, and more specifically within the class in Python. The natural python representation for our model is a networkx graph whose nodes represent the agent and to which additional information regarding the state will be attached. Fortunately there is a very simple way of handling information attached to nodes in networkx: You access attributes through the node field of a graph object, for instance to add a label called first name to the node 0 of graph g with the value Jean, you would write:"
   ]
  },
  {
   "cell_type": "code",
   "execution_count": 2,
   "metadata": {},
   "outputs": [],
   "source": [
    "g = nx.Graph()\n",
    "g.add_node(0)\n",
    "g.nodes[0]['first name'] = \"Jean\""
   ]
  },
  {
   "cell_type": "markdown",
   "metadata": {},
   "source": [
    "And to access to the value, you would write:"
   ]
  },
  {
   "cell_type": "code",
   "execution_count": 3,
   "metadata": {},
   "outputs": [
    {
     "name": "stdout",
     "output_type": "stream",
     "text": [
      "Jean\n"
     ]
    }
   ],
   "source": [
    "print(g.nodes[0]['first name'])"
   ]
  },
  {
   "cell_type": "markdown",
   "metadata": {},
   "source": [
    "Another crucial thing to learn is how probabilities materialise in the simulation. When we use an infection rate of 0.2, this means two infections out of 10 attempts. We will simulate this by generating a random number between 0 and 1, and then checking if this number is less than 0.2. For example, try to run the following cell 10 times and see if you get a \"Yes\" about 2 times (it's not gonna be exactly two times, perhaps once or three times):"
   ]
  },
  {
   "cell_type": "code",
   "execution_count": 4,
   "metadata": {},
   "outputs": [
    {
     "name": "stdout",
     "output_type": "stream",
     "text": [
      "No\n"
     ]
    }
   ],
   "source": [
    "if rd.random() < 0.2:\n",
    "    print(\"Yes\")\n",
    "else:\n",
    "    print(\"No\")"
   ]
  },
  {
   "cell_type": "markdown",
   "metadata": {},
   "source": [
    "Now look at the code below. The state of an agent is stored under the label `state`. Different values of the states are represented as integers. However for conveniance we give names to these integers: `agSusceptible`, `agInfected`\n",
    "and `agRecovered`. A susceptible agent can be infected if he never got the virus, a recovered agent can not get the virus again.\n",
    "\n",
    "The dynamic of the system is also a bit more complex than what we previously exposed: an infection can start with a given probability on any given node for any given link, recovery can stop with a given probability.\n",
    "\n",
    "Simulation proceeds in clear steps, enclosed within the step function. This function loops over all the agents and update their state based on the dynamic of the system. Please note that the state of the agents are not updated on the current graph, but on a new graph representing the next state of the system. This new state is substituted at the end of the step to become the new current state of the system. This technique is important as it allows a synchronous update of the state of all the agents."
   ]
  },
  {
   "cell_type": "code",
   "execution_count": 5,
   "metadata": {},
   "outputs": [],
   "source": [
    "# simulation parameters\n",
    "\n",
    "nb_agents = 100\n",
    "max_iterations = 10"
   ]
  },
  {
   "cell_type": "code",
   "execution_count": 6,
   "metadata": {},
   "outputs": [],
   "source": [
    "# model parameters\n",
    "\n",
    "## infection\n",
    "\n",
    "probInfection = 0.2\n",
    "probRecovery = 0.2\n",
    "probInfectionInit = 0.1\n",
    "probInfectionResidual = 0.0\n",
    "\n",
    "randomInitialInfection=True"
   ]
  },
  {
   "cell_type": "code",
   "execution_count": 7,
   "metadata": {},
   "outputs": [],
   "source": [
    "## communication structure\n",
    "\n",
    "\n",
    "# model states\n",
    "\n",
    "systemState = None\n",
    "nextSystemState = None\n",
    "\n",
    "agSusceptible = 0\n",
    "agInfected = 1\n",
    "agRecovered = 2"
   ]
  },
  {
   "cell_type": "code",
   "execution_count": 8,
   "metadata": {},
   "outputs": [],
   "source": [
    "# helper functions\n",
    "def test_state(n,value):\n",
    "    global systemState\n",
    "    return systemState.nodes[n]['state'] == value"
   ]
  },
  {
   "cell_type": "code",
   "execution_count": 9,
   "metadata": {},
   "outputs": [],
   "source": [
    "# model dynamics\n",
    "\n",
    "def init(network, nb_agents, netParam, probInfectionInit):\n",
    "    global systemState\n",
    "\n",
    "    # generate communication strucure\n",
    "    systemState = network(nb_agents, netParam)\n",
    "\n",
    "    # init agents' states\n",
    "    if randomInitialInfection:\n",
    "        # random infection\n",
    "        for a in systemState.nodes():\n",
    "            if rd.random() < probInfectionInit:\n",
    "                systemState.nodes[a]['state'] = agInfected\n",
    "                #print(\"Oh no, agent\", a, \"got infected!\")\n",
    "            else:\n",
    "                systemState.nodes[a]['state'] = agSusceptible\n",
    "    #else:\n",
    "        # targetted infection: highest-degree nodes start as infected\n",
    "\n",
    "        # get the measure (map node > value)\n",
    "        #measure = dict(nx.degree(systemState))\n",
    "\n",
    "        # sort the nodes accordingly\n",
    "        #measure = sorted(measure.items(), key=lambda x: x[1],reverse=True)\n",
    "        # retains only the nodes (discard the value)\n",
    "        #measure = [ x[0] for x in measure ]\n",
    "\n",
    "        # infect the first N nodes with the highest values\n",
    "        #nb_agents_to_infect = int(probInfectionInit * float(nb_agents))\n",
    "\n",
    "\n",
    "        #for i in range(nb_agents_to_infect):\n",
    "            #systemState.nodes[measure[i]]['state']=agInfected\n",
    "        #for i in range(nb_agents_to_infect,nb_agents):\n",
    "            #systemState.nodes[measure[i]]['state']=agSusceptible"
   ]
  },
  {
   "cell_type": "code",
   "execution_count": 10,
   "metadata": {},
   "outputs": [],
   "source": [
    "def step(probR = 0.2, probI = 0.2):\n",
    "    global systemState\n",
    "\n",
    "    # copy current network structure and agent s'states\n",
    "    nextSystemState = systemState.copy()\n",
    "\n",
    "    # determine next agents' state\n",
    "    for a in systemState.nodes():\n",
    "        # if infected\n",
    "        if test_state(a,agInfected):\n",
    "            # first try to recover\n",
    "            if rd.random() < probR:\n",
    "                nextSystemState.nodes[a]['state'] = agRecovered\n",
    "                #print(\"Good news, agent\", a, \"is feeling better!\")\n",
    "            # if not try to propagage virus\n",
    "            else:\n",
    "                for n in systemState.neighbors(a):\n",
    "                    # if recovered, do nothing\n",
    "                    if test_state(n,agRecovered):\n",
    "                        pass\n",
    "                    # otherwise try to infect\n",
    "                    elif test_state(n,agSusceptible):\n",
    "                        if rd.random() < probI:\n",
    "                            nextSystemState.nodes[n]['state'] = agInfected\n",
    "                            #print(\"Oh no, agent\", n, \"got infected!\")\n",
    "        # residual infection\n",
    "        #if test_state(a,agSusceptible) or test_state(a,agRecovered):\n",
    "            #if rd.random() < probInfectionResidual:\n",
    "                #if test_state(a,agRecovered):\n",
    "                    #print(\"Oh no, agent\", a, \"got infected AGAIN!\")\n",
    "                #else:\n",
    "                    #print(\"Oh no, agent\", a, \"got infected!\")\n",
    "                #nextSystemState.nodes[a]['state'] = agInfected\n",
    "\n",
    "    # synchronous transition to next state\n",
    "    systemState = nextSystemState"
   ]
  },
  {
   "cell_type": "code",
   "execution_count": 11,
   "metadata": {},
   "outputs": [],
   "source": [
    "statS = []\n",
    "statI = []\n",
    "statR = []\n",
    "\n",
    "def collect_statistics():\n",
    "    global systemState\n",
    "\n",
    "    nbS = 0\n",
    "    nbI = 0\n",
    "    nbR = 0\n",
    "    nbM = 0\n",
    "    for a in systemState.nodes():\n",
    "        if test_state(a,agSusceptible):\n",
    "            nbS = nbS + 1\n",
    "        if test_state(a,agInfected):\n",
    "            nbI = nbI + 1\n",
    "        if test_state(a,agRecovered):\n",
    "            nbR = nbR + 1\n",
    "    statS.append(nbS)\n",
    "    statI.append(nbI)\n",
    "    statR.append(nbR)\n",
    "    return statS, nbI"
   ]
  },
  {
   "cell_type": "code",
   "execution_count": 12,
   "metadata": {},
   "outputs": [],
   "source": [
    "def display_statistics():\n",
    "    plt.plot(statS,label=\"S\", color=\"b\")\n",
    "    plt.plot(statI,label=\"I\", color=\"r\")\n",
    "    plt.plot(statR,label=\"R\", color=\"g\")\n",
    "\n",
    "    plt.legend()\n",
    "    plt.show()"
   ]
  },
  {
   "cell_type": "code",
   "execution_count": 13,
   "metadata": {},
   "outputs": [],
   "source": [
    "def draw():\n",
    "    global systemState\n",
    "\n",
    "    list_colors = []\n",
    "    for a in systemState.nodes():\n",
    "        if test_state(a,agSusceptible):\n",
    "            list_colors.append(\"b\")\n",
    "        if test_state(a,agInfected):\n",
    "            list_colors.append(\"r\")\n",
    "        if test_state(a,agRecovered):\n",
    "            list_colors.append(\"g\")\n",
    "\n",
    "    nx.draw(systemState, node_color = list_colors)\n",
    "    plt.show()"
   ]
  },
  {
   "cell_type": "code",
   "execution_count": 14,
   "metadata": {},
   "outputs": [],
   "source": [
    "def run_simulation(nba = 100, maxIter = 10, probI = 0.2, probR = 0.2, probI_init = 0.1, network = nx.erdos_renyi_graph, netParam=0.1, rep=10):\n",
    "    x = 0\n",
    "    statS_list = []\n",
    "    nbI_list = []\n",
    "    while x < rep: \n",
    "        #print(\"starting simulation\")\n",
    "        init(network, nba, netParam, probI_init)\n",
    "        #draw()\n",
    "        i = 0\n",
    "        while i < maxIter:\n",
    "            #print(\"== round\", i)\n",
    "            step(probR, probI)\n",
    "            #draw()\n",
    "            statS, nbI = collect_statistics()\n",
    "            if nbI == 0:\n",
    "                break\n",
    "            i = i + 1\n",
    "        statS_list.append(statS[-1])\n",
    "        x = x + 1\n",
    "        #print(\"the end\")\n",
    "        #draw()\n",
    "        #display_statistics()\n",
    "    \n",
    "    \n",
    "    average_statS = sum(statS_list) / len(statS_list)\n",
    "    perc_agInfected = (((nba - average_statS) / nba) * 100)\n",
    "    \n",
    "    return perc_agInfected"
   ]
  },
  {
   "cell_type": "code",
   "execution_count": 15,
   "metadata": {},
   "outputs": [
    {
     "data": {
      "image/png": "[encoded data removed]",
      "text/plain": [
       "<Figure size 432x288 with 1 Axes>"
      ]
     },
     "metadata": {
      "needs_background": "light"
     },
     "output_type": "display_data"
    }
   ],
   "source": [
    "x_axis = np.logspace(-3,0,12)\n",
    "ER_results = np.empty(0)\n",
    "BA_results = np.empty(0)\n",
    "\n",
    "for i in x_axis:\n",
    "    ER_result = run_simulation(nba = 500, maxIter = 10, probI = i, probR = 0.2, probI_init = 0.1, network = nx.erdos_renyi_graph, netParam=0.1, rep=10)\n",
    "    ER_results = np.append(ER_results, np.array(ER_result))\n",
    "    \n",
    "    BA_result = run_simulation(nba = 500, maxIter = 10, probI = i, probR = 0.2, probI_init = 0.1, network = nx.barabasi_albert_graph, netParam=2, rep=10)\n",
    "    BA_results = np.append(BA_results, np.array(BA_result))\n",
    "\n",
    "plt.xscale('log')\n",
    "plt.xlabel('Probability of Infection')\n",
    "plt.ylabel('Percentage of Infected Agents')\n",
    "plt.plot(x_axis, ER_results, label = 'Erdos-Renyi', marker = 'D', color = 'red')\n",
    "plt.plot(x_axis, BA_results, label = 'Barabasi Albert', marker = 'D', color = 'blue')\n",
    "plt.title('The Infection Probabilities Effect on Percentage of Infected Agents Using ER and BA Networks')\n",
    "plt.legend()\n",
    "plt.show()"
   ]
  },
  {
   "cell_type": "code",
   "execution_count": 16,
   "metadata": {
    "scrolled": true
   },
   "outputs": [
    {
     "data": {
      "image/png": "[encoded data removed]",
      "text/plain": [
       "<Figure size 432x288 with 1 Axes>"
      ]
     },
     "metadata": {
      "needs_background": "light"
     },
     "output_type": "display_data"
    }
   ],
   "source": [
    "x_axis = np.logspace(-3,0,12)\n",
    "ER_results = np.empty(0)\n",
    "BA_results = np.empty(0)\n",
    "\n",
    "for i in x_axis:\n",
    "    ER_result = run_simulation(nba = 500, maxIter = 10, probI = 0.2, probR = 0.2, probI_init = i, network = nx.erdos_renyi_graph, netParam=0.1, rep=20)\n",
    "    ER_results = np.append(ER_results, np.array(ER_result))\n",
    "    \n",
    "    BA_result = run_simulation(nba = 500, maxIter = 10, probI = 0.2, probR = 0.2, probI_init = i, network = nx.barabasi_albert_graph, netParam=2, rep=20)\n",
    "    BA_results = np.append(BA_results, np.array(BA_result))\n",
    "\n",
    "plt.xscale('log')\n",
    "plt.xlabel('Proportion of Initially Infected Agents')\n",
    "plt.ylabel('Percentage of Infected Agents')\n",
    "plt.plot(x_axis, ER_results, label = 'Erdos-Renyi', marker = 'D', color = 'red')\n",
    "plt.plot(x_axis, BA_results, label = 'Barabasi Albert', marker = 'D', color = 'blue')\n",
    "plt.title('The Proportion of Initially Infected Agents Effect on Percentage of Infected Agents Using ER and BA Networks')\n",
    "plt.legend()\n",
    "plt.show()"
   ]
  },
  {
   "cell_type": "code",
   "execution_count": 17,
   "metadata": {},
   "outputs": [
    {
     "data": {
      "image/png": "[encoded data removed]",
      "text/plain": [
       "<Figure size 432x288 with 1 Axes>"
      ]
     },
     "metadata": {
      "needs_background": "light"
     },
     "output_type": "display_data"
    }
   ],
   "source": [
    "x_axis = np.arange(100,1100,100)\n",
    "ER_results = np.empty(0)\n",
    "BA_results = np.empty(0)\n",
    "\n",
    "for i in x_axis:\n",
    "    ER_result = run_simulation(nba = i, maxIter = 10, probI = 0.01, probR = 0.2, probI_init = 0.1, network = nx.erdos_renyi_graph, netParam=0.1, rep=10)\n",
    "    ER_results = np.append(ER_results, np.array(ER_result))\n",
    "    \n",
    "    BA_result = run_simulation(nba = i, maxIter = 10, probI = 0.01, probR = 0.2, probI_init = 0.1, network = nx.barabasi_albert_graph, netParam=2, rep=10)\n",
    "    BA_results = np.append(BA_results, np.array(BA_result))\n",
    "\n",
    "plt.xscale('log')\n",
    "plt.xlabel('Number of Agents')\n",
    "plt.ylabel('Percentage of Infected Agents')\n",
    "plt.plot(x_axis, ER_results, label = 'Erdos-Renyi', marker = 'D', color = 'red')\n",
    "plt.plot(x_axis, BA_results, label = 'Barabasi Albert', marker = 'D', color = 'blue')\n",
    "plt.title('The Number of Agents Effect on Percentage of Infected Agents Using ER and BA Networks')\n",
    "plt.legend()\n",
    "plt.show()"
   ]
  },
  {
   "cell_type": "code",
   "execution_count": null,
   "metadata": {},
   "outputs": [],
   "source": []
  }
 ],
 "metadata": {
  "kernelspec": {
   "display_name": "Python 3",
   "language": "python",
   "name": "python3"
  },
  "language_info": {
   "codemirror_mode": {
    "name": "ipython",
    "version": 3
   },
   "file_extension": ".py",
   "mimetype": "text/x-python",
   "name": "python",
   "nbconvert_exporter": "python",
   "pygments_lexer": "ipython3",
   "version": "3.8.10"
  }
 },
 "nbformat": 4,
 "nbformat_minor": 2
}
